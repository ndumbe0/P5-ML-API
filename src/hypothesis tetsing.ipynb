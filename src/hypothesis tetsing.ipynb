{
 "cells": [
  {
   "cell_type": "markdown",
   "metadata": {},
   "source": [
    "### **HYPOTHESIS TESTING**"
   ]
  },
  {
   "cell_type": "markdown",
   "metadata": {},
   "source": [
    "**Hypothesis 1: Age and Sepsis**\n",
    "\n",
    "Null Hypothesis (H0): There is no significant difference in age between patients with and without sepsis.\n",
    "\n",
    "Alternative Hypothesis (H1): There is a significant difference in age between patients with and without sepsis.\n",
    "\n",
    "T-statistic: 5.254202967191448\n",
    "P-value: 2.0718778891881853e-07\n",
    "\n",
    "Interpretation:\n",
    "The extremely low p-value (p < 0.05) indicates strong evidence against the null hypothesis. \n",
    "We reject the null hypothesis and accept the alternative hypothesis. \n",
    "\n",
    "This means there is a statistically significant difference in age between patients with and without sepsis. The high t-statistic suggests that this difference is substantial.\n",
    "\n",
    "Implication:\n",
    "Age appears to be a significant factor associated with sepsis. This could indicate that certain age groups are more susceptible to sepsis or that age influences the likelihood of developing sepsis.\n"
   ]
  },
  {
   "cell_type": "markdown",
   "metadata": {},
   "source": [
    "**Hypothesis 2: Blood Pressure and Sepsis**\n",
    "\n",
    "Null Hypothesis (H0): There is no significant difference in blood pressure (PR) between patients with and without sepsis.\n",
    "\n",
    "Alternative Hypothesis (H1): There is a significant difference in blood pressure (PR) between patients with and without sepsis.\n",
    "\n",
    "Hypothesis 2: Blood Pressure and Sepsis\n",
    "T-statistic: 1.495353813655633\n",
    "P-value: 0.1353505282559576\n",
    "\n",
    "Interpretation:\n",
    "The p-value (0.135) is greater than the conventional significance level of 0.05. \n",
    "\n",
    "We fail to reject the null hypothesis. \n",
    "\n",
    "This means we don't have sufficient evidence to conclude that there's a significant difference in blood pressure between patients with and without sepsis.\n",
    "\n",
    "Implication:\n",
    "Based on this data, blood pressure (PR) does not appear to be significantly associated with sepsis. However, this doesn't necessarily mean there's no relationship; it just indicates that we couldn't detect a statistically significant difference with this particular dataset and test."
   ]
  },
  {
   "cell_type": "markdown",
   "metadata": {},
   "source": [
    "**Hypothesis 3: Insurance and Sepsis**\n",
    "\n",
    "Null Hypothesis (H0): There is no association between insurance status and the occurrence of sepsis.\n",
    "\n",
    "Alternative Hypothesis (H1): There is an association between insurance status and the occurrence of sepsis.\n",
    "\n",
    "Hypothesis 3: Insurance and Sepsis\n",
    "Chi-square statistic: 2.0712782081677066\n",
    "P-value: 0.1500956791860619\n",
    "\n",
    "Interpretation:\n",
    "The p-value (0.150) is greater than 0.05, meaning we fail to reject the null hypothesis. \n",
    "We don't have sufficient evidence to conclude that there's a significant association between insurance status and the occurrence of sepsis.\n",
    "\n",
    "Implication:\n",
    "Based on this analysis, insurance status does not appear to be significantly associated with sepsis occurrence. This suggests that having or not having insurance might not directly influence the likelihood of developing sepsis, at least in this dataset."
   ]
  },
  {
   "cell_type": "code",
   "execution_count": 3,
   "metadata": {},
   "outputs": [
    {
     "name": "stdout",
     "output_type": "stream",
     "text": [
      "Hypothesis 1 - Age and Sepsis:\n",
      "T-statistic: 5.254202967191448, P-value: 2.0718778891881853e-07\n",
      "\n",
      "Hypothesis 2 - Blood Pressure and Sepsis:\n",
      "T-statistic: 1.495353813655633, P-value: 0.1353505282559576\n",
      "\n",
      "Hypothesis 3 - Insurance and Sepsis:\n",
      "Chi-square statistic: 2.0712782081677066, P-value: 0.1500956791860619\n"
     ]
    }
   ],
   "source": [
    "import pandas as pd\n",
    "import scipy.stats as stats\n",
    "\n",
    "# Load the dataset\n",
    "data = pd.read_csv(\"F:\\\\school\\\\Azubi Africa\\\\P5-ML-API\\\\data\\\\Paitients_Files_Train.csv\")\n",
    "\n",
    "# Hypothesis 1: Age and Sepsis\n",
    "sepsis_age = data[data['Sepssis'] == 'Positive']['Age']\n",
    "non_sepsis_age = data[data['Sepssis'] == 'Negative']['Age']\n",
    "t_stat, p_value = stats.ttest_ind(sepsis_age, non_sepsis_age)\n",
    "print(\"Hypothesis 1 - Age and Sepsis:\")\n",
    "print(f\"T-statistic: {t_stat}, P-value: {p_value}\")\n",
    "\n",
    "# Hypothesis 2: Blood Pressure and Sepsis\n",
    "sepsis_bp = data[data['Sepssis'] == 'Positive']['PR']\n",
    "non_sepsis_bp = data[data['Sepssis'] == 'Negative']['PR']\n",
    "t_stat, p_value = stats.ttest_ind(sepsis_bp, non_sepsis_bp)\n",
    "print(\"\\nHypothesis 2 - Blood Pressure and Sepsis:\")\n",
    "print(f\"T-statistic: {t_stat}, P-value: {p_value}\")\n",
    "\n",
    "# Hypothesis 3: Insurance and Sepsis\n",
    "contingency_table = pd.crosstab(data['Insurance'], data['Sepssis'])\n",
    "chi2, p_value, dof, expected = stats.chi2_contingency(contingency_table)\n",
    "print(\"\\nHypothesis 3 - Insurance and Sepsis:\")\n",
    "print(f\"Chi-square statistic: {chi2}, P-value: {p_value}\")\n"
   ]
  },
  {
   "cell_type": "markdown",
   "metadata": {},
   "source": [
    "## **Overall Insights**\n",
    "\n",
    "Age is a significant factor: The strongest relationship found is between age and sepsis. This could have important implications for patient care and risk assessment.\n",
    "Blood pressure and insurance are not significant: Neither blood pressure nor insurance status showed a statistically significant relationship with sepsis in this analysis. However, this doesn't mean these factors are irrelevant; they might still play a role that wasn't captured by these specific tests or this particular dataset.\n",
    "Further investigation needed: While age shows a clear association with sepsis, the nature of this relationship (e.g., which age groups are more at risk) would require further analysis. For blood pressure and insurance, despite not showing significance here, it might be worth exploring these factors with different statistical methods or larger datasets.\n",
    "Clinical vs. Statistical Significance: Remember that statistical significance doesn't always equate to clinical significance. Even though blood pressure and insurance didn't show statistical significance, they might still be clinically important in sepsis management and prevention.\n",
    "Limitations: These results are based on the specific dataset and methods used. Other factors not considered here might also play important roles in sepsis occurrence and outcomes.\n",
    "These findings provide a starting point for understanding factors associated with sepsis in this patient population, with age emerging as a key factor to consider in sepsis risk assessment and management."
   ]
  }
 ],
 "metadata": {
  "kernelspec": {
   "display_name": "Python 3",
   "language": "python",
   "name": "python3"
  },
  "language_info": {
   "codemirror_mode": {
    "name": "ipython",
    "version": 3
   },
   "file_extension": ".py",
   "mimetype": "text/x-python",
   "name": "python",
   "nbconvert_exporter": "python",
   "pygments_lexer": "ipython3",
   "version": "3.12.7"
  }
 },
 "nbformat": 4,
 "nbformat_minor": 2
}
